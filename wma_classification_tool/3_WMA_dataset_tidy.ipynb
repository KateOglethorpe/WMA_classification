{
 "cells": [
  {
   "cell_type": "code",
   "execution_count": 24,
   "metadata": {},
   "outputs": [],
   "source": [
    "# Load packages\n",
    "\n",
    "import sys\n",
    "sys.path.append('/Users/ko389/Documents/Arctic_Water_Masses/Functions_general/')\n",
    "import pandas as pd\n",
    "import numpy as np\n",
    "import xarray as xr\n",
    "import gsw"
   ]
  },
  {
   "cell_type": "code",
   "execution_count": 25,
   "metadata": {},
   "outputs": [],
   "source": [
    "data_path = '/Users/ko389/Documents/GitHub/Arctic_water_masses/Data/water_mass_data.nc'\n",
    "water_mass_data = xr.open_dataset(data_path).to_dataframe()\n",
    "data_path = '/Users/ko389/Documents/GitHub/Arctic_water_masses/Data/water_mass_data_stdev.nc'\n",
    "water_mass_data_stdev = xr.open_dataset(data_path).to_dataframe()"
   ]
  },
  {
   "cell_type": "code",
   "execution_count": 26,
   "metadata": {},
   "outputs": [
    {
     "name": "stderr",
     "output_type": "stream",
     "text": [
      "/Users/ko389/miniconda3/envs/hydro_env_local/lib/python3.12/site-packages/xarray/coding/times.py:254: RuntimeWarning: invalid value encountered in cast\n",
      "  flat_num_dates_ns_int = (flat_num_dates * _NS_PER_TIME_DELTA[delta]).astype(\n"
     ]
    }
   ],
   "source": [
    "# Add the time information from T, S, DO dataset\n",
    "\n",
    "#Load Arctic T, S, DO data\n",
    "arctic = xr.open_dataset(\"/Users/ko389/Documents/GitHub/Arctic_water_masses/Data/Arctic_T_S_DO_data.nc\").to_dataframe()\n",
    "def set_up_arctic_data(df):\n",
    "\n",
    "    # rename & reorder columns\n",
    "    df=df.rename(columns={'dissolved_oxygen':'oxygen','conservative_temperature':'conservative_temp'})\n",
    "    column_order = ['conservative_temp', 'absolute_salinity', 'oxygen','latitude', 'longitude', 'depth', 'source','nprof', 'datetime','pressure']\n",
    "    df = df [column_order]\n",
    "\n",
    "    # remove labrador sea\n",
    "    labrador_Sea = df[(df['latitude']<80)&(df['longitude']<-40)&(df['longitude']>-120)].index\n",
    "    df = df.drop(labrador_Sea)\n",
    "\n",
    "    # remove data with depth > 1000m\n",
    "    df = df[df['depth']<1000]\n",
    "    \n",
    "    return df\n",
    "arctic = set_up_arctic_data(arctic)\n",
    "\n",
    "\n",
    "# Combine with water mass data\n",
    "water_mass_data.reset_index(drop=True, inplace=True)\n",
    "water_mass_data_stdev.reset_index(drop=True, inplace=True)\n",
    "arctic.reset_index(drop=True, inplace=True)\n",
    "#water_mass_data = water_mass_data.drop_duplicates(subset=['latitude', 'depth','conservative_temp', 'absolute_salinity'])\n",
    "#arctic = pd.merge(water_mass_data, arctic, on=['latitude','depth','conservative_temp', 'absolute_salinity'], how='inner')\n",
    "water_mass_data= pd.concat([water_mass_data, arctic['oxygen'],arctic['datetime'], arctic['source'], arctic['nprof']], axis=1)\n",
    "water_mass_data_stdev = pd.concat([water_mass_data_stdev, arctic['oxygen'],arctic['datetime'], arctic['source'], arctic['nprof']], axis=1)"
   ]
  },
  {
   "cell_type": "code",
   "execution_count": 27,
   "metadata": {},
   "outputs": [],
   "source": [
    "water_mass_data.drop(columns=['lon_sin', 'lon_cos', 'season', 'seasonal_sin'], inplace=True)\n",
    "water_mass_data_stdev.drop(columns=['lon_sin', 'lon_cos', 'season', 'seasonal_sin'], inplace=True)"
   ]
  },
  {
   "cell_type": "code",
   "execution_count": null,
   "metadata": {},
   "outputs": [],
   "source": [
    "# Remove salinity < 0.5 - we notice this after processing & compilation of T, S, DO data\n",
    "water_mass_data = water_mass_data[water_mass_data['absolute_salinity']>=0.5]\n",
    "water_mass_data_stdev = water_mass_data_stdev[water_mass_data_stdev['absolute_salinity']>=0.5]"
   ]
  },
  {
   "cell_type": "code",
   "execution_count": null,
   "metadata": {},
   "outputs": [],
   "source": [
    "# rename columns ACCW to sPW and MAW to AW - some renaming of water masses since analysis\n",
    "water_mass_data.rename(columns={'ACCW':'sPW', 'MAW':'AW'}, inplace=True)\n",
    "water_mass_data_stdev.rename(columns={'ACCW':'sPW', 'MAW':'AW'}, inplace=True)"
   ]
  },
  {
   "cell_type": "code",
   "execution_count": 32,
   "metadata": {},
   "outputs": [],
   "source": [
    "# Convert to xarray Dataset (without setting too many indices)\n",
    "ds = xr.Dataset.from_dataframe(water_mass_data)\n",
    "ds2 = xr.Dataset.from_dataframe(water_mass_data_stdev)\n",
    "\n",
    "# Save to NetCDF\n",
    "output_path = \"/Users/ko389/Documents/GitHub/Arctic_water_masses/Data/WMA_fractions.nc\"#_without_DO.nc\"\n",
    "ds.to_netcdf(output_path, engine=\"netcdf4\")\n",
    "output_path_stdev = \"/Users/ko389/Documents/GitHub/Arctic_water_masses/Data/WMA_stdev.nc\"#_without_DO.nc\"\n",
    "ds2.to_netcdf(output_path_stdev, engine=\"netcdf4\")"
   ]
  },
  {
   "cell_type": "code",
   "execution_count": 42,
   "metadata": {},
   "outputs": [],
   "source": [
    "# Save as CSV\n",
    "\n",
    "water_mass_data.columns = [\n",
    "    'Arctic_Surface_Water_[fraction]',\n",
    "    'Modified_summer_Pacific_Water_[fraction]',\n",
    "    'Summer_Pacific_Water_[fraction]',\n",
    "    'Winter_Pacific_Water_[fraction]',\n",
    "    'Norwegian_Current_Water_[fraction]',\n",
    "    'Atlantic_Water_[fraction]',\n",
    "    'Brine-enriched_Water_[fraction]',\n",
    "    'Conservative_Temperature_[deg_C]',\n",
    "    'Absolute_Salinity_[PSU]',\n",
    "    'Latitude_[deg_N]',\n",
    "    'Depth_[m]',\n",
    "    'Longitude_[deg_E]',\n",
    "    'Dissolved_Oxygen_[micro_mol_per_kg]',\n",
    "    'Datetime_[UTC]',\n",
    "    'Source',\n",
    "    'Profile_Number'\n",
    "]\n",
    "\n",
    "water_mass_data.to_csv('/Users/ko389/Documents/GitHub/Arctic_water_masses/Data/WMA_fractions.csv', index=False, header=True)"
   ]
  }
 ],
 "metadata": {
  "kernelspec": {
   "display_name": "hydro_env_local",
   "language": "python",
   "name": "python3"
  },
  "language_info": {
   "codemirror_mode": {
    "name": "ipython",
    "version": 3
   },
   "file_extension": ".py",
   "mimetype": "text/x-python",
   "name": "python",
   "nbconvert_exporter": "python",
   "pygments_lexer": "ipython3",
   "version": "3.12.3"
  }
 },
 "nbformat": 4,
 "nbformat_minor": 2
}
