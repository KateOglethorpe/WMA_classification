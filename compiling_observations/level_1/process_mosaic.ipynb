{
 "cells": [
  {
   "cell_type": "markdown",
   "metadata": {},
   "source": [
    "# Process CTD data from cruises not in GLODAPv2022 - users can continuously update this with extra cruises"
   ]
  },
  {
   "cell_type": "markdown",
   "metadata": {},
   "source": [
    "**Load ARC01 Healy (2015) - later found in GLODAP so no need to process**"
   ]
  },
  {
   "cell_type": "code",
   "execution_count": 1,
   "metadata": {},
   "outputs": [
    {
     "data": {
      "text/plain": [
       "'\\nimport xarray as xr\\nimport requests\\n# Download the data to local computer from the web\\nurl = \"https://cchdo.ucsd.edu/data/38698/33HQ20150809_bottle.nc\"\\nlocal_filename = \"/Users/ko389/Documents/Arctic_Water_Masses/Arctic_data/T_S_data_processing/data/cruises_not_in_GLODAP/33HQ20150809_bottle.nc\"\\n\\nresponse = requests.get(url)\\nwith open(local_filename, \\'wb\\') as f:\\n    f.write(response.content)\\n\\n# Open the data as dataframe\\nARC01 = xr.open_dataset(local_filename)\\nARC01 = ARC01.to_dataframe()\\n'"
      ]
     },
     "execution_count": 1,
     "metadata": {},
     "output_type": "execute_result"
    }
   ],
   "source": [
    "\"\"\"\n",
    "import xarray as xr\n",
    "import requests\n",
    "# Download the data to local computer from the web\n",
    "url = \"https://cchdo.ucsd.edu/data/38698/33HQ20150809_bottle.nc\"\n",
    "local_filename = \"/Users/ko389/Documents/Arctic_Water_Masses/Arctic_data/T_S_data_processing/data/cruises_not_in_GLODAP/33HQ20150809_bottle.nc\"\n",
    "\n",
    "response = requests.get(url)\n",
    "with open(local_filename, 'wb') as f:\n",
    "    f.write(response.content)\n",
    "\n",
    "# Open the data as dataframe\n",
    "ARC01 = xr.open_dataset(local_filename)\n",
    "ARC01 = ARC01.to_dataframe()\n",
    "\"\"\""
   ]
  },
  {
   "cell_type": "code",
   "execution_count": 2,
   "metadata": {},
   "outputs": [
    {
     "data": {
      "text/plain": [
       "\"\\n# Remove variables not needed\\nARC01.reset_index(inplace=True)\\nARC01 = ARC01[['N_PROF', 'station', 'cast','latitude', 'longitude', 'time', 'ctd_oxygen','ctd_temperature', 'ctd_salinity','pressure']]\\n\""
      ]
     },
     "execution_count": 2,
     "metadata": {},
     "output_type": "execute_result"
    }
   ],
   "source": [
    "\"\"\"\n",
    "# Remove variables not needed\n",
    "ARC01.reset_index(inplace=True)\n",
    "ARC01 = ARC01[['N_PROF', 'station', 'cast','latitude', 'longitude', 'time', 'ctd_oxygen','ctd_temperature', 'ctd_salinity','pressure']]\n",
    "\"\"\""
   ]
  },
  {
   "cell_type": "markdown",
   "metadata": {},
   "source": [
    "**Load ARCO1/GEOTRACES Polarstern 2015 - later found in GLODAP so no need to process**\n",
    "\n"
   ]
  },
  {
   "cell_type": "code",
   "execution_count": 3,
   "metadata": {},
   "outputs": [
    {
     "data": {
      "text/plain": [
       "'\\nimport xarray as xr\\nimport requests\\n\\n# Download the data to local computer from the web\\nurl = \"https://cchdo.ucsd.edu/data/41337/06AQ20150817_bottle.nc\"\\nlocal_filename = \"/Users/ko389/Documents/Arctic_Water_Masses/Arctic_data/T_S_data_processing/data/cruises_not_in_GLODAP/06AQ20150817_bottle.nc\"\\n\\nresponse = requests.get(url)\\nwith open(local_filename, \\'wb\\') as f:\\n    f.write(response.content)\\n\\n# Open the data as dataframe\\nARC01_GEOTRACES = xr.open_dataset(local_filename)\\nARC01_GEOTRACES = ARC01_GEOTRACES.to_dataframe()\\n'"
      ]
     },
     "execution_count": 3,
     "metadata": {},
     "output_type": "execute_result"
    }
   ],
   "source": [
    "\"\"\"\n",
    "import xarray as xr\n",
    "import requests\n",
    "\n",
    "# Download the data to local computer from the web\n",
    "url = \"https://cchdo.ucsd.edu/data/41337/06AQ20150817_bottle.nc\"\n",
    "local_filename = \"/Users/ko389/Documents/Arctic_Water_Masses/Arctic_data/T_S_data_processing/data/cruises_not_in_GLODAP/06AQ20150817_bottle.nc\"\n",
    "\n",
    "response = requests.get(url)\n",
    "with open(local_filename, 'wb') as f:\n",
    "    f.write(response.content)\n",
    "\n",
    "# Open the data as dataframe\n",
    "ARC01_GEOTRACES = xr.open_dataset(local_filename)\n",
    "ARC01_GEOTRACES = ARC01_GEOTRACES.to_dataframe()\n",
    "\"\"\""
   ]
  },
  {
   "cell_type": "code",
   "execution_count": 4,
   "metadata": {},
   "outputs": [
    {
     "data": {
      "text/plain": [
       "\"\\n# Remove variables not needed\\nARC01_GEOTRACES.reset_index(inplace=True)\\nARC01_GEOTRACES = ARC01_GEOTRACES[['N_PROF', 'station', 'cast','latitude', 'longitude', 'time', 'ctd_oxygen','ctd_temperature', 'ctd_salinity','pressure']]\\n\""
      ]
     },
     "execution_count": 4,
     "metadata": {},
     "output_type": "execute_result"
    }
   ],
   "source": [
    "\"\"\"\n",
    "# Remove variables not needed\n",
    "ARC01_GEOTRACES.reset_index(inplace=True)\n",
    "ARC01_GEOTRACES = ARC01_GEOTRACES[['N_PROF', 'station', 'cast','latitude', 'longitude', 'time', 'ctd_oxygen','ctd_temperature', 'ctd_salinity','pressure']]\n",
    "\"\"\""
   ]
  },
  {
   "cell_type": "markdown",
   "metadata": {},
   "source": [
    "**Load MOSAiC data**"
   ]
  },
  {
   "cell_type": "code",
   "execution_count": 3,
   "metadata": {},
   "outputs": [],
   "source": [
    "\n",
    "import requests\n",
    "import pandas as pd\n",
    "\n",
    "# URL of the .tab file\n",
    "url = \"https://doi.pangaea.de/10.1594/PANGAEA.959966?format=textfile\"\n",
    "local_filename = \"/Users/ko389/Documents/Arctic_Water_Masses/Arctic_data/WM_project_data/data/cruises_not_in_GLODAP/MOSAiC_bottle.nc\"\n",
    "\n",
    "\n",
    "# Download the file\n",
    "response = requests.get(url)\n",
    "\n",
    "# Save the content to a local file\n",
    "with open(local_filename, 'wb') as file:\n",
    "    file.write(response.content)\n",
    "\n",
    "# Load the .tab file into a DataFrame\n",
    "MOSAiC = pd.read_csv(local_filename, delimiter='\\t', skiprows=185)\n",
    "\n",
    "# Display the first few rows of the DataFrame\n",
    "#print(df.head())"
   ]
  },
  {
   "cell_type": "code",
   "execution_count": 4,
   "metadata": {},
   "outputs": [],
   "source": [
    "# Extract the columns of interest\n",
    "MOSAiC = MOSAiC[['Date/Time','Latitude', 'Longitude', 'Depth water [m]','Tcon [°C]', 'ASAL [g/kg]', 'O2 [µmol/kg]']]\n",
    "# Add a new column 'nprof' indicating a new Date/Time\n",
    "MOSAiC['nprof'] = pd.factorize(MOSAiC['Date/Time'])[0] + 1  # Adding 1 to start from 1 instead of 0\n"
   ]
  },
  {
   "cell_type": "code",
   "execution_count": 5,
   "metadata": {},
   "outputs": [],
   "source": [
    "# Convert Date/Time to datetime format\n",
    "MOSAiC['Date/Time'] = pd.to_datetime(MOSAiC['Date/Time'], format='%Y-%m-%dT%H:%M:%S')\n",
    "MOSAiC['year']=MOSAiC['Date/Time'].dt.year\n",
    "MOSAiC['month']=MOSAiC['Date/Time'].dt.month\n",
    "MOSAiC['day']=MOSAiC['Date/Time'].dt.day\n",
    "MOSAiC['hour']=MOSAiC['Date/Time'].dt.hour\n",
    "MOSAiC['minute']=MOSAiC['Date/Time'].dt.minute\n",
    "MOSAiC['second']=MOSAiC['Date/Time'].dt.second\n",
    "\n",
    "# Rename columns\n",
    "MOSAiC.rename(columns={'Date/Time':'datetime','Latitude': 'latitude', 'Longitude': 'longitude',  'Depth water [m]':'depth','Tcon [°C]': 'conservative_temperature', 'ASAL [g/kg]': 'absolute_salinity', 'O2 [µmol/kg]': 'dissolved_oxygen'}, inplace=True)\n",
    "\n",
    "#Add source name\n",
    "MOSAiC['source']='MOSAiC'"
   ]
  },
  {
   "cell_type": "code",
   "execution_count": 6,
   "metadata": {},
   "outputs": [
    {
     "data": {
      "text/plain": [
       "<Axes: xlabel='datetime', ylabel='Count'>"
      ]
     },
     "execution_count": 6,
     "metadata": {},
     "output_type": "execute_result"
    },
    {
     "data": {
      "image/png": "[encoded data removed]",
      "text/plain": [
       "<Figure size 640x480 with 1 Axes>"
      ]
     },
     "metadata": {},
     "output_type": "display_data"
    }
   ],
   "source": [
    "import seaborn as sns\n",
    "sns.histplot(MOSAiC['datetime'])"
   ]
  },
  {
   "cell_type": "markdown",
   "metadata": {},
   "source": [
    "**Save cruise data not in GLODAP**\n"
   ]
  },
  {
   "cell_type": "code",
   "execution_count": 8,
   "metadata": {},
   "outputs": [],
   "source": [
    "# Save as netCDF\n",
    "output_file_path = \"/Users/ko389/Documents/Arctic_Water_Masses/Arctic_data/T_S_data_processing/data/cruises_not_in_GLODAP/\"\n",
    "output_file_name = \"cruises_not_in_GLODAP.nc\"\n",
    "MOSAiC.to_xarray().to_netcdf(output_file_path + output_file_name)"
   ]
  }
 ],
 "metadata": {
  "kernelspec": {
   "display_name": "hydro_env_local",
   "language": "python",
   "name": "python3"
  },
  "language_info": {
   "codemirror_mode": {
    "name": "ipython",
    "version": 3
   },
   "file_extension": ".py",
   "mimetype": "text/x-python",
   "name": "python",
   "nbconvert_exporter": "python",
   "pygments_lexer": "ipython3",
   "version": "3.12.3"
  }
 },
 "nbformat": 4,
 "nbformat_minor": 2
}
